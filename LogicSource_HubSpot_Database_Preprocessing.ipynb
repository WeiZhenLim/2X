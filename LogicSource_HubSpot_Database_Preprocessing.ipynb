{
  "nbformat": 4,
  "nbformat_minor": 0,
  "metadata": {
    "colab": {
      "provenance": [],
      "authorship_tag": "ABX9TyNJILyltaJ2s+R6QfjdPjZQ",
      "include_colab_link": true
    },
    "kernelspec": {
      "name": "python3",
      "display_name": "Python 3"
    },
    "language_info": {
      "name": "python"
    }
  },
  "cells": [
    {
      "cell_type": "markdown",
      "metadata": {
        "id": "view-in-github",
        "colab_type": "text"
      },
      "source": [
        "<a href=\"https://colab.research.google.com/github/WeiZhenLim/2X/blob/main/LogicSource_HubSpot_Database_Preprocessing.ipynb\" target=\"_parent\"><img src=\"https://colab.research.google.com/assets/colab-badge.svg\" alt=\"Open In Colab\"/></a>"
      ]
    },
    {
      "cell_type": "markdown",
      "source": [
        "### LogicSource HubSpot Database Preprocessing\n",
        "---\n",
        "The function of this code is to preprocess the HubSpot Company and Contact Database for further analysis. The following are the columns/fields that will be extracted for the output.\n",
        "\n",
        "HubSpot Company Database:\n",
        "- Record ID; Company name; Company Domain Name; Country/Region; Annual Revenue; Annual Revenue Range; Industry (Standardized); Account Segment Nov 2023; Account Segment HS; Enrich/Expand By 2X (YYYYMMDD); 2x Notes; 2X Tracker\n",
        "\n",
        "HubSpot Contact Databse:\n",
        "- Record ID; Email; Email Domain; Country/Region; Job Title; Job Role; Job Role (Organic); Job Role (Reassigned); Seniority; Lead Segment; Lead Segment HS; Company Name; Company website; Industry (Standardized); Marketing contact status; Membership Notes; <font color='red'>**Associated Company IDs* (Any columns/fields with similar name are extracted and preprocessed)**</font>\n",
        "\n",
        "<font color='yellow'>**If there are any columns/fields that you wish to extract, kindly reach out to Lim Wei Zhen to update the code. Thanks.**</font>\n",
        "\n",
        "Note:\n",
        "1. Download the HubSpot Company and Contact Database in CSV format.\n",
        "2. For HubSpot Company Database, only select for \"All properties on records\" when export; For HubSpot Contact Database, select \"All properties on records\" and \"Include all associations\".\n",
        "\n",
        "<img src=\"https://drive.google.com/uc?id=1IF3j_Xp39Tez6M9JUGuFIFfPGGNBdBS6\" width=\"500\" alt=\"HubSpot Export Setting\" class=\"center\"/>"
      ],
      "metadata": {
        "id": "GZfiyaSi96lH"
      }
    },
    {
      "cell_type": "markdown",
      "source": [
        "### Run the following code without editing"
      ],
      "metadata": {
        "id": "6c26Dt2b91SG"
      }
    },
    {
      "cell_type": "code",
      "execution_count": 1,
      "metadata": {
        "colab": {
          "base_uri": "https://localhost:8080/"
        },
        "id": "o4-mGi1v9vYm",
        "outputId": "fa9c0390-b7cc-4d6b-9934-5959487a98af"
      },
      "outputs": [
        {
          "output_type": "stream",
          "name": "stdout",
          "text": [
            "Cloning into '2X'...\n",
            "remote: Enumerating objects: 418, done.\u001b[K\n",
            "remote: Counting objects: 100% (109/109), done.\u001b[K\n",
            "remote: Compressing objects: 100% (80/80), done.\u001b[K\n",
            "remote: Total 418 (delta 66), reused 61 (delta 29), pack-reused 309\u001b[K\n",
            "Receiving objects: 100% (418/418), 1.98 MiB | 13.31 MiB/s, done.\n",
            "Resolving deltas: 100% (235/235), done.\n",
            "\u001b[0m\u001b[01;34m2X\u001b[0m/  \u001b[01;34msample_data\u001b[0m/\n",
            "Mounted at /content/drive\n"
          ]
        }
      ],
      "source": [
        "# Clone repo into Colab & Add Path\n",
        "!git clone https://github.com/WeiZhenLim/2X\n",
        "%ls\n",
        "\n",
        "import sys\n",
        "sys.path.append(\"/content/2X/python_project_2x\")\n",
        "\n",
        "# Load module\n",
        "from logicsource_data_preprocessing.HubSpotDataPreprocessing import preprocess_company_data, preprocess_contact_data\n",
        "\n",
        "# Mount Google Drive\n",
        "from google.colab import drive\n",
        "drive.mount('/content/drive')"
      ]
    },
    {
      "cell_type": "markdown",
      "source": [
        "### Update the following Variables"
      ],
      "metadata": {
        "id": "j05mRQLGDs0x"
      }
    },
    {
      "cell_type": "code",
      "source": [
        "# Google Drive Folder Path for storing the output\n",
        "dest_folder = r\"/content/drive/MyDrive/2X - LogicSource/02 LS HubSpot Database Preprocessing\"\n",
        "\n",
        "# Filepath for the Exported Hubspot Company Database\n",
        "comp_file = r\"/content/drive/MyDrive/2X - LogicSource/02 LS HubSpot Database Preprocessing/all-companies-20240507.csv\"\n",
        "\n",
        "# Filename for HubSpot Company Database Output\n",
        "comp_output = \"Processed HubSpot Company Database\"\n",
        "\n",
        "# Filepath for the Exported HubSpot Contact Database\n",
        "contact_file = r\"/content/drive/MyDrive/2X - LogicSource/02 LS HubSpot Database Preprocessing/all-contacts-20240507.csv\"\n",
        "\n",
        "#Filename for HubSpot Contact Database Output\n",
        "contact_output = \"Processed HubSpot Contact Database\""
      ],
      "metadata": {
        "id": "nbi8BFLJDwrv"
      },
      "execution_count": 2,
      "outputs": []
    },
    {
      "cell_type": "markdown",
      "source": [
        "### Run the following code for HubSpot Company Database\n",
        "\n",
        "Reach out to Lim Wei Zhen if there's any error raised when executing the code."
      ],
      "metadata": {
        "id": "GY9myuw7FLkl"
      }
    },
    {
      "cell_type": "code",
      "source": [
        "preprocess_company_data(comp_file, dest_folder, comp_output)"
      ],
      "metadata": {
        "colab": {
          "base_uri": "https://localhost:8080/"
        },
        "id": "CSlCx8qVFQBp",
        "outputId": "c7ae5621-6115-4ec2-a290-0d8c8289513e"
      },
      "execution_count": 3,
      "outputs": [
        {
          "output_type": "stream",
          "name": "stderr",
          "text": [
            "/content/2X/python_project_2x/logicsource_data_preprocessing/HubSpotDataPreprocessing.py:36: DtypeWarning: Columns (13,35,64,84,88,90,117) have mixed types. Specify dtype option on import or set low_memory=False.\n",
            "  df_comp = pd.read_csv(filename)\n"
          ]
        },
        {
          "output_type": "stream",
          "name": "stdout",
          "text": [
            "The HubSpot Company Database is preprocessed and saved as Processed HubSpot Company Database.xlsx.\n"
          ]
        }
      ]
    },
    {
      "cell_type": "markdown",
      "source": [
        "### Run the following code for HubSpot Contact Database\n",
        "\n",
        "Reach out to Lim Wei Zhen if there's any error raised when executing the code."
      ],
      "metadata": {
        "id": "g5UCrMWVFUch"
      }
    },
    {
      "cell_type": "code",
      "source": [
        "preprocess_contact_data(contact_file, dest_folder, contact_output)"
      ],
      "metadata": {
        "colab": {
          "base_uri": "https://localhost:8080/"
        },
        "id": "yvCI2mdMFW5D",
        "outputId": "bf06dc19-f4fd-4b15-e007-487e46ed30e8"
      },
      "execution_count": 4,
      "outputs": [
        {
          "output_type": "stream",
          "name": "stderr",
          "text": [
            "/content/2X/python_project_2x/logicsource_data_preprocessing/HubSpotDataPreprocessing.py:130: DtypeWarning: Columns (5,6,11,16,17,18,21,24,29,37,38,41,43,44,45,57,58,59,61,63,65,66,71,73,74,75,81,82,90,108,110,115,123,124,135,136,137,138,139,140,141,142,143,152,171,187,188,190,197,199,200,201,209,215,221,236,243,245,246,261,263,273,276,287,298,300,301,302,315,317,321,322,336,337,343,359,364,381,382,385,386,397,398,401,402,403,419) have mixed types. Specify dtype option on import or set low_memory=False.\n",
            "  df_contact = pd.read_csv(filename)\n"
          ]
        },
        {
          "output_type": "stream",
          "name": "stdout",
          "text": [
            "The HubSpot Contact Database is preprocessed and saved as Processed HubSpot Contact Database.xlsx.\n"
          ]
        }
      ]
    }
  ]
}