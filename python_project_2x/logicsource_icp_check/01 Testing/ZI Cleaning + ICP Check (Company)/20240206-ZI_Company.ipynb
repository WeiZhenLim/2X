{
 "cells": [
  {
   "cell_type": "markdown",
   "metadata": {},
   "source": [
    "Last Update: Feb 6, 2024"
   ]
  },
  {
   "cell_type": "code",
   "execution_count": 333,
   "metadata": {},
   "outputs": [],
   "source": [
    "import pandas as pd\n",
    "import tldextract as domain_extract\n",
    "import sys\n",
    "from datetime import datetime"
   ]
  },
  {
   "cell_type": "markdown",
   "metadata": {},
   "source": [
    "Update `filename` (Rmb to include csv)"
   ]
  },
  {
   "cell_type": "code",
   "execution_count": 334,
   "metadata": {},
   "outputs": [],
   "source": [
    "# Read Excel File\n",
    "filename = \"Test.csv\""
   ]
  },
  {
   "cell_type": "markdown",
   "metadata": {},
   "source": [
    "Update `company_list`, `industry list` (Rmb to include csv)"
   ]
  },
  {
   "cell_type": "code",
   "execution_count": 335,
   "metadata": {},
   "outputs": [],
   "source": [
    "# Read Excel File\n",
    "company_list = \"Company to Exclude.csv\"\n",
    "\n",
    "industry_list = \"Industry ICP Keywords.csv\""
   ]
  },
  {
   "cell_type": "markdown",
   "metadata": {},
   "source": [
    "#### Read all relevant csv files and subset the required columns"
   ]
  },
  {
   "cell_type": "code",
   "execution_count": 336,
   "metadata": {},
   "outputs": [],
   "source": [
    "df = pd.read_csv(filename)\n",
    "\n",
    "comp_to_exclude = list(pd.read_csv(company_list)['Company Domain'].unique())\n",
    "\n",
    "industry_to_exclude = list(pd.read_csv(industry_list)['Industry Keyword'].unique())"
   ]
  },
  {
   "cell_type": "code",
   "execution_count": 337,
   "metadata": {},
   "outputs": [],
   "source": [
    "df = df[['Company Name', 'Website', 'Revenue (in 000s USD)', 'Revenue Range (in USD)',\n",
    "         'Primary Industry', 'Primary Sub-Industry', 'All Industries', 'All Sub-Industries',\n",
    "         'LinkedIn Company Profile URL', 'Company Country']]"
   ]
  },
  {
   "cell_type": "markdown",
   "metadata": {},
   "source": [
    "#### Preprocessing (Remove/Add necessary columns for Company ICP Check)"
   ]
  },
  {
   "cell_type": "code",
   "execution_count": 338,
   "metadata": {},
   "outputs": [],
   "source": [
    "# Column to track source\n",
    "df['Source-Checked On (YYYYMMDD)'] = filename + \"-\" + str(datetime.today().strftime('%Y%m%d'))"
   ]
  },
  {
   "cell_type": "code",
   "execution_count": 339,
   "metadata": {},
   "outputs": [],
   "source": [
    "# Get domain\n",
    "df['Company Domain'] = df['Website'].apply(lambda x: domain_extract.extract(x).domain + \".\" + domain_extract.extract(x).suffix)"
   ]
  },
  {
   "cell_type": "code",
   "execution_count": 340,
   "metadata": {},
   "outputs": [],
   "source": [
    "# Add column for industry standardized, lead segment HS & Industry Re-Segmentation\n",
    "df['Industry (Standardized)'] = \"\"\n",
    "df['Lead Segment HS'] = \"\"\n",
    "df['Industry Re-Segmentation'] = \"\""
   ]
  },
  {
   "cell_type": "code",
   "execution_count": 341,
   "metadata": {},
   "outputs": [],
   "source": [
    "# Add column for validation/check\n",
    "df['Valid/Invalid'] = \"\"\n",
    "df['Remark'] = \"\"\n",
    "df['Industry_ICP_Check_List'] = \"\""
   ]
  },
  {
   "cell_type": "markdown",
   "metadata": {},
   "source": [
    "#### Company ICP Check\n",
    "\n",
    "For Company ICP, the following are the stuff that we will need to check:\n",
    "1. Revenue > $1B\n",
    "2. Company to be located in US/CA\n",
    "3. Do not include companies that the client has identified not to include\n",
    "4. Standardized the industry based on client's ICP"
   ]
  },
  {
   "cell_type": "markdown",
   "metadata": {},
   "source": [
    "##### Industry ICP Check (Compile Results into List for Overall ICP Check)"
   ]
  },
  {
   "cell_type": "code",
   "execution_count": 342,
   "metadata": {},
   "outputs": [],
   "source": [
    "# Compile all four industry columns into one list\n",
    "\n",
    "industry_col = ['Primary Industry', 'Primary Sub-Industry', 'All Industries', 'All Sub-Industries']\n",
    "\n",
    "df['ZI Industry List'] = [[] for _ in range(len(df))]\n",
    "\n",
    "for col in industry_col:\n",
    "    df['ZI Industry List'] = df['ZI Industry List'] + df[col].astype(str).str.split(\";\")"
   ]
  },
  {
   "cell_type": "code",
   "execution_count": 343,
   "metadata": {},
   "outputs": [],
   "source": [
    "# Services & Healthcare ICP Segments and Industry Re-Segmentation Mapping\n",
    "services_ICP_segment = ['Consumer Services', 'Retail', 'Hospitality', \n",
    "                        'Finance', 'Manufacturing', 'Insurance', 'Media & Internet']\n",
    "\n",
    "healthcare_ICP_segment = ['Ambulance Services', 'Blood & Organ Banks', 'Elderly Care Services', 'Medical Laboratories & Imaging Center',\n",
    "                          'Dental Offices', 'Medical & Surgical Hospitals', 'Medical Specialists', 'Physicians Clinics', \n",
    "                          'Hospitals & Physicians Clinics'] \n",
    "# Take note that \"Hospitals & Physicians Clinics\" is not ICP segment but its a keyword for \"Physicians Clinics\" \n",
    "\n",
    "ind_resegment = {'Retail + CPG' : ['Consumer Services', 'Retail'],\n",
    "                 'Hospitality': ['Hospitality'],\n",
    "                 'Finance & Insurance': ['Finance', 'Insurance'],\n",
    "                 'Manufacturing': ['Manufacturing'], \n",
    "                 'Media & Internet': ['General'], \n",
    "                 'Healthcare': healthcare_ICP_segment}"
   ]
  },
  {
   "cell_type": "code",
   "execution_count": 344,
   "metadata": {},
   "outputs": [],
   "source": [
    "# Create a function to check industry ICP\n",
    "\n",
    "\"\"\"\n",
    "Logic for Industry ICP Check: *** When do conditional checking, remember to use .lower() function ***\n",
    "1. Split the 4 industry columns and combine it as a string \n",
    "2. If healthcare keywords is found, append into the ind_result\n",
    "3. If services keywords is found, append into the ind_result\n",
    "4. Determine which keywords are conditional\n",
    "    - For Retail, Building MaterialS is Acceptable\n",
    "    - For Retail, Telecommunication Equipment is Acceptable\n",
    "5. Determine which keywords are the most important one to remove\n",
    "6. Label those that do not have keywords in the services_ICP_segment\n",
    "\"\"\"\n",
    "\n",
    "def industry_check(row, healthcare_ICP, services_ICP, industry_to_exclude):\n",
    "\n",
    "    \"\"\"\n",
    "    This function will check for the industry ICP based on the following criteria and return a list that can be used for another function.\n",
    "    1. Loop through the list of industry from the 4 industry columns in ZI\n",
    "    2. If healthcare keywords is found, append the keywords into a list (ind_result). Also append \"healthcare\".\n",
    "    3. If services keywords is found, append the keywords into ind_result\n",
    "    4. Conditional keywords\n",
    "        - For Retail, \"Building Material\" & \"Telecommunication\" are acceptable. Append \"retail check\" into ind_result if found\n",
    "        - If the keyword \"Banking\" is found, append \"banking check\" into ind_result\n",
    "    5. If keywords in the industry_to_exclude are found, append \"invalid\" into ind_result\n",
    "    6. If the keywords not found in the healthcare_ICP, services_ICP, and industry_to_exclude, append \"manual check\" into ind_result\n",
    "    \"\"\"\n",
    "\n",
    "    # create an empty list to store the results \n",
    "    ind_result = []\n",
    "\n",
    "    for industry in row: # Step 1\n",
    "        ind_lower = industry.lower()\n",
    "\n",
    "        if ind_lower in [ind_ICP.lower() for ind_ICP in healthcare_ICP]: # Step 2\n",
    "            ind_result.append(ind_lower)\n",
    "            ind_result.append(\"healthcare\")\n",
    "        elif ind_lower in [ind_ICP.lower() for ind_ICP in services_ICP]: # Step 3\n",
    "            ind_result.append(ind_lower)\n",
    "        elif ind_lower in ['building materials', 'telecommunication equipment']: # Step 4.1\n",
    "            ind_result.append(\"retail check\")\n",
    "        elif \"banking\" in ind_lower: # Step 4.2\n",
    "            ind_result.append(\"banking check\") \n",
    "        elif ind_lower in [invalid_ind.lower() for invalid_ind in industry_to_exclude]: # Step 5\n",
    "            ind_result.append(\"invalid\")\n",
    "    \n",
    "    # Step 6\n",
    "    if len(ind_result) == 0: \n",
    "        ind_result.append(\"manual check\")\n",
    "\n",
    "    return ind_result\n"
   ]
  },
  {
   "cell_type": "code",
   "execution_count": 345,
   "metadata": {},
   "outputs": [],
   "source": [
    "# Update the Industry_ICP_Check_List column\n",
    "df['Industry_ICP_Check_List'] = df['ZI Industry List'].apply(lambda x: industry_check(x, healthcare_ICP_segment, services_ICP_segment, industry_to_exclude))"
   ]
  },
  {
   "cell_type": "markdown",
   "metadata": {},
   "source": [
    "##### Overall ICP Check"
   ]
  },
  {
   "cell_type": "code",
   "execution_count": 346,
   "metadata": {},
   "outputs": [],
   "source": [
    "# Overall ICP Check\n",
    "def company_icp_check(dataset, healthcare_ICP, services_ICP, company_list, resegmentation_dict):\n",
    "\n",
    "    # ------------------------------------------------------------------------------------------\n",
    "\n",
    "    # Revenue ICP Check\n",
    "    def check_revenue(row):    \n",
    "        if row['Revenue (in 000s USD)'] < 1000000:\n",
    "            return \"Invalid Revenue Range\"\n",
    "        else:\n",
    "            return \"\"\n",
    "    \n",
    "    dataset['Remark'] = dataset.apply(check_revenue, axis=1)\n",
    "\n",
    "    # ------------------------------------------------------------------------------------------\n",
    "        \n",
    "    # Check for location\n",
    "    country_ICP = [\"United States\", \"Canada\"]\n",
    "\n",
    "    def country_check(row):\n",
    "        # only label those that have revenue > 100,000\n",
    "        if row['Remark'] != \"\":\n",
    "            return row['Remark']\n",
    "        elif row['Company Country'] not in country_ICP:\n",
    "            return \"Company Not In US/CA\"\n",
    "        else:\n",
    "            return \"\"\n",
    "\n",
    "    dataset['Remark'] = dataset.apply(country_check, axis=1)\n",
    "\n",
    "    # ------------------------------------------------------------------------------------------\n",
    "\n",
    "    # Check for company to exclude\n",
    "    \n",
    "    def exclude_company(row):\n",
    "        if row['Remark'] != \"\":\n",
    "            return row['Remark']\n",
    "        elif row['Company Domain'] in company_list:\n",
    "            return \"Company In Client List\"\n",
    "        else:\n",
    "            return \"\"\n",
    "        \n",
    "    dataset['Remark'] = dataset.apply(exclude_company, axis=1)\n",
    "\n",
    "    # ------------------------------------------------------------------------------------------\n",
    "\n",
    "    # Check for Industry ICP\n",
    "    def industry_ICP_check(row):\n",
    "        if row['Remark'] != \"\":\n",
    "            return row['Remark']\n",
    "        elif \"healthcare\" in row['Industry_ICP_Check_List']:\n",
    "            return \"\"\n",
    "        elif \"manual check\" in row['Industry_ICP_Check_List']:\n",
    "            return \"Manual Check for Industry\"\n",
    "        elif (\"retail check\" in row['Industry_ICP_Check_List']) and (\"retail\" not in row['Industry_ICP_Check_List']):\n",
    "            return \"Invalid Sub-Industry\"\n",
    "        elif (\"banking check\" in row['Industry_ICP_Check_List']) and (row['Revenue (in 000s USD)'] > 15000000):\n",
    "            return \"Invalid Sub-Industry (Banking with Revenue > $15B)\"\n",
    "        elif \"invalid\" in row['Industry_ICP_Check_List']:\n",
    "            return \"Invalid Sub-Industry\"\n",
    "        else:\n",
    "            return \"\"\n",
    "    \n",
    "    dataset['Remark'] = dataset.apply(industry_ICP_check, axis=1)\n",
    "\n",
    "    # ------------------------------------------------------------------------------------------\n",
    "\n",
    "    # Standardized Industry\n",
    "    def industry_standardized(row):\n",
    "        if row['Remark'] == \"Manual Check for Industry\":\n",
    "            return \"Manual Check for Industry\"\n",
    "        elif row['Remark'] != \"\":\n",
    "            return \"Non ICP\"\n",
    "        \n",
    "        # temp holder to consider healthcare keywords appearing in services\n",
    "        ind_temp = []\n",
    "\n",
    "        for ind in row['Industry_ICP_Check_List']: # To check for healthcare keyword first \n",
    "\n",
    "            ind_title = ind.title()\n",
    "            \n",
    "            if (ind_title in healthcare_ICP) and (ind_title == \"Hospitals & Physicians Clinics\"): # Check for \"Hospitals & Physicians Clinics\" keyword\n",
    "                ind_temp.append(\"Physicians Clinics\")\n",
    "            elif ind_title in healthcare_ICP: # Check for healthcare\n",
    "                ind_temp.append(ind_title)\n",
    "            \n",
    "        if len(ind_temp) == 0:\n",
    "            for ind in row['Industry_ICP_Check_List']: # If there are no healthcare keyword appear, then only check for services\n",
    "                \n",
    "                ind_title = ind.title()\n",
    "\n",
    "                if ind_title in services_ICP: \n",
    "                    ind_temp.append(ind_title)\n",
    "        \n",
    "        return ind_temp[0]\n",
    "                \n",
    "    dataset['Industry (Standardized)'] = dataset.apply(industry_standardized, axis=1)\n",
    "\n",
    "    # ------------------------------------------------------------------------------------------\n",
    "\n",
    "    # Industry Re-Segmentation\n",
    "    def resegmentation_ICP(row):\n",
    "        if row['Remark'] == \"Manual Check for Industry\":\n",
    "            return \"\"\n",
    "        elif row['Remark'] != \"\":\n",
    "            return \"Non ICP\"\n",
    "        \n",
    "        for seg, ind in resegmentation_dict.items():\n",
    "            if row['Industry (Standardized)'] in ind:\n",
    "                return seg\n",
    "\n",
    "    dataset['Industry Re-Segmentation'] =  dataset.apply(resegmentation_ICP, axis=1)\n",
    "\n",
    "    # ------------------------------------------------------------------------------------------\n",
    "\n",
    "    # Lead Segment HS\n",
    "    def lead_segment_hs(row):\n",
    "        if row['Remark'] == \"Manual Check for Industry\":\n",
    "            return \"\"\n",
    "        elif row['Remark'] != \"\":\n",
    "            return \"Non ICP\"\n",
    "        elif row['Industry Re-Segmentation'] == \"Healthcare\":\n",
    "            return \"Healthcare\"\n",
    "        else:\n",
    "            return \"Services\"\n",
    "        \n",
    "    dataset['Lead Segment HS'] = dataset.apply(lead_segment_hs, axis=1)\n",
    "\n",
    "    # ------------------------------------------------------------------------------------------\n",
    "\n",
    "    # Label Valid/Invalid column\n",
    "    def valid_invalid(row):\n",
    "        if row == \"Manual Check for Industry\":\n",
    "            return \"\"\n",
    "        elif row == \"\":\n",
    "            return \"Valid\"\n",
    "        else:\n",
    "            return \"Invalid\"\n",
    "\n",
    "    dataset['Valid/Invalid'] = dataset['Remark'].apply(lambda x: valid_invalid(x))\n",
    "\n",
    "    return"
   ]
  },
  {
   "cell_type": "code",
   "execution_count": 347,
   "metadata": {},
   "outputs": [],
   "source": [
    "company_icp_check(df, healthcare_ICP_segment, services_ICP_segment, comp_to_exclude, ind_resegment)"
   ]
  },
  {
   "cell_type": "markdown",
   "metadata": {},
   "source": [
    "#### Get Relevant Columns and Export to CSV"
   ]
  },
  {
   "cell_type": "code",
   "execution_count": 348,
   "metadata": {},
   "outputs": [],
   "source": [
    "new_col = ['Company Name', 'Website', 'Company Domain', 'Revenue (in 000s USD)', 'Revenue Range (in USD)',\n",
    "         'Primary Industry', 'Primary Sub-Industry', 'All Industries', 'All Sub-Industries', \n",
    "         'Industry (Standardized)', 'Lead Segment HS', 'Industry Re-Segmentation', \n",
    "         'LinkedIn Company Profile URL', 'Company Country', \n",
    "         'Valid/Invalid', 'Remark', 'Source-Checked On (YYYYMMDD)']"
   ]
  },
  {
   "cell_type": "code",
   "execution_count": 349,
   "metadata": {},
   "outputs": [],
   "source": [
    "df = df[new_col]"
   ]
  },
  {
   "cell_type": "code",
   "execution_count": 350,
   "metadata": {},
   "outputs": [],
   "source": [
    "output_filename = filename.split(\".csv\")[0] + \"_Output V2.csv\"\n",
    "df.to_csv(output_filename, index=False)"
   ]
  }
 ],
 "metadata": {
  "kernelspec": {
   "display_name": "base",
   "language": "python",
   "name": "python3"
  },
  "language_info": {
   "codemirror_mode": {
    "name": "ipython",
    "version": 3
   },
   "file_extension": ".py",
   "mimetype": "text/x-python",
   "name": "python",
   "nbconvert_exporter": "python",
   "pygments_lexer": "ipython3",
   "version": "3.11.4"
  }
 },
 "nbformat": 4,
 "nbformat_minor": 2
}
