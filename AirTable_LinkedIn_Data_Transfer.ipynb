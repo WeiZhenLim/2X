{
  "nbformat": 4,
  "nbformat_minor": 0,
  "metadata": {
    "colab": {
      "provenance": [],
      "authorship_tag": "ABX9TyNDURBR2GTSnsNIddZnJKZV",
      "include_colab_link": true
    },
    "kernelspec": {
      "name": "python3",
      "display_name": "Python 3"
    },
    "language_info": {
      "name": "python"
    }
  },
  "cells": [
    {
      "cell_type": "markdown",
      "metadata": {
        "id": "view-in-github",
        "colab_type": "text"
      },
      "source": [
        "<a href=\"https://colab.research.google.com/github/WeiZhenLim/2X/blob/main/AirTable_LinkedIn_Data_Transfer.ipynb\" target=\"_parent\"><img src=\"https://colab.research.google.com/assets/colab-badge.svg\" alt=\"Open In Colab\"/></a>"
      ]
    },
    {
      "cell_type": "markdown",
      "source": [
        "### AirTable LinkedIn Data Transfer\n",
        "---\n",
        "\n",
        "***NOTE:***\n",
        "1. Only update the section with \"<font color='orange'>Update variables</font>\".\n",
        "2. Check the output for each line of code to ensure that the number of instances/rows exported and compiled matches LinkedIn Campaign Manager.\n",
        "3. If you encounter any errors, you can either try to resolve them yourself or reach out to Wei Zhen Lim.\n",
        "4. Any edits or changes made will not affect the source code. Feel free to edit the code.\n",
        "\n",
        "***Workflow:***\n",
        "1. Read Ads Performance Reports.\n",
        "2. Read Ads Bulk Export.\n",
        "3. Obtain launch and completion dates from Ads Performance Reports (Table 1).\n",
        "4. Preprocess Ads Performance Report (Table 2).\n",
        "5. Preprocess Ads Bulk Export (Table 3).\n",
        "6. Merge all three tables from steps 3, 4, and 5. Export the output as preview (Table 4).\n",
        "7. Preprocess the merged table (Table 4) to match AirTable's column/field format.\n"
      ],
      "metadata": {
        "id": "4QLg_D2DgwoA"
      }
    },
    {
      "cell_type": "markdown",
      "source": [
        "### Run the following code without editing (Setting Up Environment)"
      ],
      "metadata": {
        "id": "yFOHXdVJhSJw"
      }
    },
    {
      "cell_type": "code",
      "execution_count": 18,
      "metadata": {
        "colab": {
          "base_uri": "https://localhost:8080/"
        },
        "id": "b8w_xAtGgkyZ",
        "outputId": "355c6127-72fc-4ea9-e84b-a90a3133c689"
      },
      "outputs": [
        {
          "output_type": "stream",
          "name": "stdout",
          "text": [
            "fatal: destination path '2X' already exists and is not an empty directory.\n",
            "\u001b[0m\u001b[01;34m2X\u001b[0m/  \u001b[01;34mdrive\u001b[0m/  \u001b[01;34msample_data\u001b[0m/\n"
          ]
        }
      ],
      "source": [
        "# Clone repo into Colab & Add Path\n",
        "!git clone https://github.com/WeiZhenLim/2X\n",
        "%ls\n",
        "\n",
        "import sys\n",
        "sys.path.append(\"/content/2X/python_project_2x\")"
      ]
    },
    {
      "cell_type": "code",
      "source": [
        "from csv_hacks import compile_csv\n",
        "from airtable_data_transfer.linkedin_transfer import *"
      ],
      "metadata": {
        "id": "RoiTsYH6hwBk"
      },
      "execution_count": 19,
      "outputs": []
    },
    {
      "cell_type": "code",
      "source": [
        "from google.colab import drive\n",
        "drive.mount('/content/drive')"
      ],
      "metadata": {
        "colab": {
          "base_uri": "https://localhost:8080/"
        },
        "id": "wNjhfxx6h83a",
        "outputId": "fcaa4b30-46e2-48be-a9cf-86fff9bef6e1"
      },
      "execution_count": 20,
      "outputs": [
        {
          "output_type": "stream",
          "name": "stdout",
          "text": [
            "Drive already mounted at /content/drive; to attempt to forcibly remount, call drive.mount(\"/content/drive\", force_remount=True).\n"
          ]
        }
      ]
    },
    {
      "cell_type": "markdown",
      "source": [
        "### <font color='orange'>Update Variables</font>\n",
        "---\n",
        "1. Create a new folder and save all the Ads Performance Reports (This shall be the <font color='red'>**Google Drive path**</font> for `folder_path_report`)\n",
        "2. Create a new folder and save all the Ads Bulk Export (This shall be the <font color='red'>**Google Drive path**</font> for `folder_path_bulk`)\n",
        "3. `dest_folder` = <font color='red'>**Google Drive path**</font> where you wish to save all the output generated from this script."
      ],
      "metadata": {
        "id": "vEyoHH8mi8ve"
      }
    },
    {
      "cell_type": "code",
      "source": [
        "# Folder path containing all the Ads Performance Report(s)\n",
        "folder_path_report = r\"/content/drive/MyDrive/2X - General/03 AirTable LinkedIn Data Transfer/Ad Performance Export Example\""
      ],
      "metadata": {
        "id": "TuTHrjcAi-3y"
      },
      "execution_count": 21,
      "outputs": []
    },
    {
      "cell_type": "code",
      "source": [
        "# Folder path containing all the Ads Bulk Export(s)\n",
        "folder_path_bulk = r\"/content/drive/MyDrive/2X - General/03 AirTable LinkedIn Data Transfer/Ads Bulk Export Example\""
      ],
      "metadata": {
        "id": "jph3Ma9SjQIX"
      },
      "execution_count": 22,
      "outputs": []
    },
    {
      "cell_type": "code",
      "source": [
        "# Destination folder path to save the output\n",
        "dest_folder = r\"/content/drive/MyDrive/2X - General/03 AirTable LinkedIn Data Transfer\""
      ],
      "metadata": {
        "id": "zWEQ3P3EpRSc"
      },
      "execution_count": 23,
      "outputs": []
    },
    {
      "cell_type": "markdown",
      "source": [
        "### 1. Read Ads Performance Reports"
      ],
      "metadata": {
        "id": "eMAugB7lpYnO"
      }
    },
    {
      "cell_type": "code",
      "source": [
        "df_report = compile_csv(folder_path_report, dest_folder, \"ads_performance_report\", \"Start Date (in UTC)\")"
      ],
      "metadata": {
        "colab": {
          "base_uri": "https://localhost:8080/"
        },
        "id": "bTt6bvvMqHMD",
        "outputId": "6f13d291-ffd2-4a94-93b7-5cfa5e75b65e"
      },
      "execution_count": 24,
      "outputs": [
        {
          "output_type": "stream",
          "name": "stdout",
          "text": [
            "01 Ads Performance Report Jan 2023 - May 2023.csv\n",
            "Skipping 5 rows\n",
            ">>> 01 Ads Performance Report Jan 2023 - May 2023.csv contains 176 rows and 94 columns.\n",
            "\n",
            "02 Ads Performance Report June 2023 - Nov 2023.csv\n",
            "Skipping 5 rows\n",
            ">>> 02 Ads Performance Report June 2023 - Nov 2023.csv contains 596 rows and 96 columns.\n",
            "\n",
            "03 Ads Performance Report Dec 2023 - 25th Feb 2024.csv\n",
            "Skipping 5 rows\n",
            ">>> 03 Ads Performance Report Dec 2023 - 25th Feb 2024.csv contains 809 rows and 74 columns.\n",
            "\n",
            ">>>> Successfully compiled. Total no of rows = 1581 <<<<\n"
          ]
        }
      ]
    },
    {
      "cell_type": "markdown",
      "source": [
        "### 2. Read Ads Bulk Export"
      ],
      "metadata": {
        "id": "A389imsOpgaG"
      }
    },
    {
      "cell_type": "code",
      "source": [
        "df_bulk = compile_csv(folder_path_bulk, dest_folder, \"ads_bulk_export\", \"*Account ID\")"
      ],
      "metadata": {
        "colab": {
          "base_uri": "https://localhost:8080/"
        },
        "id": "h2F-aeCPqU1k",
        "outputId": "fc1011c7-6b1d-4f90-9233-eb3d758702dc"
      },
      "execution_count": 25,
      "outputs": [
        {
          "output_type": "stream",
          "name": "stdout",
          "text": [
            "Ads Bulk Export Example.csv\n",
            "Skipping 4 rows\n",
            ">>> Ads Bulk Export Example.csv contains 82 rows and 15 columns.\n",
            "\n",
            ">>>> Successfully compiled. Total no of rows = 82 <<<<\n"
          ]
        }
      ]
    },
    {
      "cell_type": "markdown",
      "source": [
        "### 3. Obtain launch and completion dates from Ads Performance Report (Table 1)"
      ],
      "metadata": {
        "id": "GnXzLM-mpkuR"
      }
    },
    {
      "cell_type": "code",
      "source": [
        "df_launch_completed_date = get_launch_completed_date(df_report)"
      ],
      "metadata": {
        "colab": {
          "base_uri": "https://localhost:8080/"
        },
        "id": "5cEnygZWqcc0",
        "outputId": "a42350f5-c307-47fe-cf44-0bf700986af1"
      },
      "execution_count": 26,
      "outputs": [
        {
          "output_type": "stream",
          "name": "stdout",
          "text": [
            "There are 391 instances with zero clicks. Original data: 1581 instances; Filtered data: 1190 instances.\n"
          ]
        }
      ]
    },
    {
      "cell_type": "markdown",
      "source": [
        "### 4. Preprocess Ads Performance Reports (Table 2)"
      ],
      "metadata": {
        "id": "F92fqatepru9"
      }
    },
    {
      "cell_type": "code",
      "source": [
        "df_report = preprocess_ads_performance_report(df_report)"
      ],
      "metadata": {
        "id": "qQTJZdv1qmKB"
      },
      "execution_count": 27,
      "outputs": []
    },
    {
      "cell_type": "markdown",
      "source": [
        "### 5. Preprocess Ads Bulk Export (Table 3)"
      ],
      "metadata": {
        "id": "Ln5dVQv5pzRJ"
      }
    },
    {
      "cell_type": "code",
      "source": [
        "df_bulk = preprocess_ads_bulk_report(df_bulk)"
      ],
      "metadata": {
        "id": "Q0OMWvtLqrKc"
      },
      "execution_count": 28,
      "outputs": []
    },
    {
      "cell_type": "markdown",
      "source": [
        "### 6. Merge all three tables from steps 3, 4, and 5. Export the output as preview (Table 4)"
      ],
      "metadata": {
        "id": "-3qZRIBJp3Sx"
      }
    },
    {
      "cell_type": "code",
      "source": [
        "df_final = merge_and_preprocess(df_launch_completed_date, df_report, df_bulk)"
      ],
      "metadata": {
        "id": "DIHa7GkZqvEw"
      },
      "execution_count": 29,
      "outputs": []
    },
    {
      "cell_type": "code",
      "source": [
        "check_export_count(df_final)"
      ],
      "metadata": {
        "colab": {
          "base_uri": "https://localhost:8080/",
          "height": 86
        },
        "id": "DxYsLYHnq4JG",
        "outputId": "a98937f2-659e-43e7-81bc-b4cc3fcb6845"
      },
      "execution_count": 30,
      "outputs": [
        {
          "output_type": "display_data",
          "data": {
            "text/plain": [
              "Campaign Group ID    14\n",
              "Campaign ID          18\n",
              "Ad ID                51\n",
              "dtype: int64"
            ]
          },
          "metadata": {}
        }
      ]
    },
    {
      "cell_type": "code",
      "source": [
        "# Preview File\n",
        "date_code_execute = datetime.today().strftime(\"%Y%m%d\")\n",
        "df_final.to_csv(os.path.join(dest_folder, date_code_execute + \"-Preview.csv\"), index=False)"
      ],
      "metadata": {
        "id": "gcDkDUVJq6QA"
      },
      "execution_count": 31,
      "outputs": []
    },
    {
      "cell_type": "markdown",
      "source": [
        "### Download the Column Mapping CSV File"
      ],
      "metadata": {
        "id": "eQEEeAMc0KMU"
      }
    },
    {
      "cell_type": "code",
      "source": [
        "from google.colab import files\n",
        "\n",
        "files.download(\"/content/2X/python_project_2x/airtable_data_transfer/AirTable Column Mapping.csv\")"
      ],
      "metadata": {
        "colab": {
          "base_uri": "https://localhost:8080/",
          "height": 17
        },
        "id": "TvigM4Jt0QZJ",
        "outputId": "7126a991-46e9-4293-c26a-a57ef4d24b0d"
      },
      "execution_count": 32,
      "outputs": [
        {
          "output_type": "display_data",
          "data": {
            "text/plain": [
              "<IPython.core.display.Javascript object>"
            ],
            "application/javascript": [
              "\n",
              "    async function download(id, filename, size) {\n",
              "      if (!google.colab.kernel.accessAllowed) {\n",
              "        return;\n",
              "      }\n",
              "      const div = document.createElement('div');\n",
              "      const label = document.createElement('label');\n",
              "      label.textContent = `Downloading \"${filename}\": `;\n",
              "      div.appendChild(label);\n",
              "      const progress = document.createElement('progress');\n",
              "      progress.max = size;\n",
              "      div.appendChild(progress);\n",
              "      document.body.appendChild(div);\n",
              "\n",
              "      const buffers = [];\n",
              "      let downloaded = 0;\n",
              "\n",
              "      const channel = await google.colab.kernel.comms.open(id);\n",
              "      // Send a message to notify the kernel that we're ready.\n",
              "      channel.send({})\n",
              "\n",
              "      for await (const message of channel.messages) {\n",
              "        // Send a message to notify the kernel that we're ready.\n",
              "        channel.send({})\n",
              "        if (message.buffers) {\n",
              "          for (const buffer of message.buffers) {\n",
              "            buffers.push(buffer);\n",
              "            downloaded += buffer.byteLength;\n",
              "            progress.value = downloaded;\n",
              "          }\n",
              "        }\n",
              "      }\n",
              "      const blob = new Blob(buffers, {type: 'application/binary'});\n",
              "      const a = document.createElement('a');\n",
              "      a.href = window.URL.createObjectURL(blob);\n",
              "      a.download = filename;\n",
              "      div.appendChild(a);\n",
              "      a.click();\n",
              "      div.remove();\n",
              "    }\n",
              "  "
            ]
          },
          "metadata": {}
        },
        {
          "output_type": "display_data",
          "data": {
            "text/plain": [
              "<IPython.core.display.Javascript object>"
            ],
            "application/javascript": [
              "download(\"download_71fcfa34-7f71-4abe-a532-4cdda0202e19\", \"AirTable Column Mapping.csv\", 668)"
            ]
          },
          "metadata": {}
        }
      ]
    },
    {
      "cell_type": "markdown",
      "source": [
        "### <font color='orange'>Update Variables</font>\n",
        "---\n",
        "1. `mapping_file` = <font color='red'>**Google Drive path**</font> for the AirTable Column Mapping CSV file (Ensure that the column names match those in the AirTable Column CSV file).\n",
        "2. `airtable_col_file` = <font color='red'>**Google Drive path**</font> for the AirTable Column CSV file."
      ],
      "metadata": {
        "id": "75qOzFoer6wk"
      }
    },
    {
      "cell_type": "code",
      "source": [
        "# CSV File for Column Mapping\n",
        "mapping_file = r\"/content/drive/MyDrive/2X - General/03 AirTable LinkedIn Data Transfer/AirTable Column Mapping.csv\""
      ],
      "metadata": {
        "id": "_LoJdSA3r9uk"
      },
      "execution_count": 33,
      "outputs": []
    },
    {
      "cell_type": "code",
      "source": [
        "# AirTable Columns CSV File\n",
        "airtable_col_file = r\"/content/drive/MyDrive/2X - General/03 AirTable LinkedIn Data Transfer/AirTable Column.csv\""
      ],
      "metadata": {
        "id": "xfHvPhQmsCt_"
      },
      "execution_count": 34,
      "outputs": []
    },
    {
      "cell_type": "markdown",
      "source": [
        "### 7. Preprocess the merged table (Table 4) to match AirTable's column/field format."
      ],
      "metadata": {
        "id": "7BNXz04MqAEy"
      }
    },
    {
      "cell_type": "code",
      "source": [
        "airtable_mapping(mapping_file, df_final, airtable_col_file, dest_folder, \"Final Output\")"
      ],
      "metadata": {
        "id": "Aw67KfhVqE0q"
      },
      "execution_count": 35,
      "outputs": []
    }
  ]
}