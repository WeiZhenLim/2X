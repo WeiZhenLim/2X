{
 "cells": [
  {
   "cell_type": "markdown",
   "metadata": {},
   "source": [
    "Last Update: Jan 30, 2024"
   ]
  },
  {
   "cell_type": "code",
   "execution_count": 118,
   "metadata": {},
   "outputs": [],
   "source": [
    "import pandas as pd\n",
    "from IPython.display import display\n",
    "\n",
    "import urllib.parse as urlparse\n",
    "from urllib.parse import parse_qs\n",
    "\n",
    "import os\n",
    "import sys\n",
    "\n",
    "from datetime import datetime"
   ]
  },
  {
   "cell_type": "code",
   "execution_count": 119,
   "metadata": {},
   "outputs": [],
   "source": [
    "# timestamp when running the code\n",
    "date_code_excute = datetime.today().strftime(\"%Y%m%d\")"
   ]
  },
  {
   "cell_type": "code",
   "execution_count": 120,
   "metadata": {},
   "outputs": [],
   "source": [
    "# function for website & utm split\n",
    "def website_utm_split (url, type):\n",
    "\n",
    "    source_type = {\"website\":\"\", \n",
    "                   \"utm_source\": \"\", \n",
    "                   \"utm_medium\": \"\", \n",
    "                   \"utm_campaign\": \"\", \n",
    "                   \"utm_content\":\"\", \n",
    "                   \"utm_term\":\"\", \n",
    "                   \"utm_id\":\"\"}\n",
    "\n",
    "    # if url is empty\n",
    "    if url == \"\":\n",
    "        return source_type[type]\n",
    "    \n",
    "    # if url is not string\n",
    "    if not isinstance(url, str):\n",
    "        return source_type[type]\n",
    "\n",
    "    # parse url\n",
    "    url_split = urlparse.urlparse(url)\n",
    "\n",
    "    # extract website\n",
    "    website = url_split[0] + \"://\" + url_split[1] + url_split[2]\n",
    "    source_type[\"website\"] = website\n",
    "\n",
    "    # extract utm source\n",
    "\n",
    "    # if utm is empty\n",
    "    if url_split.query == \"\":\n",
    "        return source_type[type]\n",
    "\n",
    "    # if utm is not empty\n",
    "    utm_split = url_split.query.split(\"&\")\n",
    "\n",
    "    for i in utm_split:\n",
    "        \n",
    "        utm_type_para = i.split(\"=\")\n",
    "\n",
    "        # utm type\n",
    "        utm_type = utm_type_para[0]\n",
    "\n",
    "        # utm parameter\n",
    "        utm_para = utm_type_para[1]\n",
    "\n",
    "        source_type[utm_type] = utm_para\n",
    "    \n",
    "    return source_type[type]"
   ]
  },
  {
   "cell_type": "code",
   "execution_count": 121,
   "metadata": {},
   "outputs": [],
   "source": [
    "# function to compile all csv in the file based on the first columns and to save the compiled output for the ease of checking\n",
    "def compile_csv(folder_path, first_col, destination_folder, output_filename):\n",
    "\n",
    "    \"\"\"\n",
    "    folder_path refers to the folder that contains all the csv that you wish to compile \\n\n",
    "    first_col refers to the name of the first column that you wish to detect \\n\n",
    "    destination_folder refers to the folder that you wish to save the compiled csv at (Suggest to save in the main working folder, not the csv compilation folder) \\n\n",
    "    output_filename refers to the filename for the compiled csv file (Remember to include the extension .csv)\n",
    "    \"\"\"\n",
    "\n",
    "    # get all files in the folder\n",
    "    all_files = os.listdir(folder_path)\n",
    "\n",
    "    # filter out non-CSV files\n",
    "    csv_files = [f for f in all_files if f.endswith(\".csv\")]\n",
    "\n",
    "    # create a list to hold the dataframes\n",
    "    df_list = []\n",
    "\n",
    "    for csv in csv_files:\n",
    "        file_path = os.path.join(folder_path, csv)\n",
    "        print(f\"{csv}\")\n",
    "    \n",
    "        col_name = \"\"\n",
    "\n",
    "        try:\n",
    "            i = 0 \n",
    "            # To identify which row to skip\n",
    "            while col_name != first_col:            \n",
    "                df = pd.read_csv(file_path, skiprows=i, nrows=1)\n",
    "                col_name = df.columns[0]\n",
    "                i += 1\n",
    "\n",
    "            # Try reading the file using default UTF-8 encoding\n",
    "            df = pd.read_csv(file_path, skiprows=i)\n",
    "\n",
    "            print(f\"Skipped {i} rows.\")\n",
    "            print(f\"No of rows = {df.shape[0]}; No of columns = {df.shape[1]}\")\n",
    "            df_list.append(df)\n",
    "\n",
    "        except UnicodeDecodeError:\n",
    "            try:\n",
    "                i = 0 \n",
    "                # To identify which row to skip\n",
    "                while col_name != first_col:\n",
    "                    df = pd.read_csv(file_path, sep='\\t', encoding='utf-16', skiprows=i, nrows=1)\n",
    "                    col_name = df.columns[0]\n",
    "                    i += 1\n",
    "\n",
    "                # If UTF-8 fails, try reading the file using UTF-16 encoding with tab separator\n",
    "                df = pd.read_csv(file_path, sep='\\t', encoding='utf-16', skiprows=i)\n",
    "                \n",
    "                print(f\"Skipped {i} rows.\")\n",
    "                print(f\"No of rows = {df.shape[0]}; No of columns = {df.shape[1]}\")\n",
    "                df_list.append(df)\n",
    "\n",
    "            except Exception as e:\n",
    "                print(f\"Could not read file {csv} because of error: {e}\")\n",
    "\n",
    "        except Exception as e:\n",
    "            print(f\"Could not read file {csv} because of error: {e}\")\n",
    "\n",
    "    # Concatenate all data into one DataFrame\n",
    "    df_compile = pd.concat(df_list, ignore_index=True)\n",
    "\n",
    "    # Export as csv\n",
    "    df_compile.to_csv(os.path.join(destination_folder, date_code_excute + \"-\" + output_filename), index=False)\n",
    "\n",
    "    print(f\"Total no of row = {df_compile.shape[0]}\")\n",
    "\n",
    "    return df_compile"
   ]
  },
  {
   "cell_type": "code",
   "execution_count": 122,
   "metadata": {},
   "outputs": [],
   "source": [
    "# Objective keyword mapping\n",
    "\n",
    "campaign_obj = {\"Awareness\":[\"Brand awareness\"], \n",
    "                \"Consideration\":[\"Website visits\", \"Engagement\", \"Video views\", \"Messaging\"],\n",
    "                \"Conversions\":[\"Lead generation\", \"Talent leads\", \"Website conversions\", \"Job applicants\"]}"
   ]
  },
  {
   "cell_type": "code",
   "execution_count": 123,
   "metadata": {},
   "outputs": [],
   "source": [
    "# function for objective keyword mapping\n",
    "def remap_campaign_obj(row):\n",
    "    stage = row['Stage']\n",
    "\n",
    "    for key, obj in campaign_obj.items():\n",
    "        if stage in obj:\n",
    "            return key\n",
    "\n",
    "    raise ValueError(f\"Invalid Objective Found {stage}. Please check the export CSV file.\")"
   ]
  },
  {
   "cell_type": "markdown",
   "metadata": {},
   "source": [
    "Update `main_folder_path` (Path to your main working folder)"
   ]
  },
  {
   "cell_type": "code",
   "execution_count": 124,
   "metadata": {},
   "outputs": [],
   "source": [
    "main_folder_path = r\"C:\\Users\\WeiZhenLim\\OneDrive - 2X LLC\\Work\\013-016, 033 Televerde\\Televerde Ad Optimization\\02 Televerde LinkedIn Campaign Manager Export - Method 2\""
   ]
  },
  {
   "cell_type": "markdown",
   "metadata": {},
   "source": [
    "#### Compile and Clean Up Ads Performance Report"
   ]
  },
  {
   "cell_type": "markdown",
   "metadata": {},
   "source": [
    "Things to take note for the following two code blocks:\n",
    "\n",
    "<u> First Code Block </u>\n",
    "1. Replace the `folder_path` with the folder that contains all the **CSV** files that you wished to compile\n",
    "2. Replace the `first_col` with the first column name of the data you wish to read \n",
    "\n",
    "<u> Output of Second Code Block </u> \n",
    "1. Check whether the number of row read matches with your files"
   ]
  },
  {
   "cell_type": "code",
   "execution_count": 125,
   "metadata": {},
   "outputs": [],
   "source": [
    "# Replace with your folder's path\n",
    "folder_path = r\"C:\\Users\\WeiZhenLim\\OneDrive - 2X LLC\\Work\\013-016, 033 Televerde\\Televerde Ad Optimization\\02 Televerde LinkedIn Campaign Manager Export - Method 2\\LinkedIn Ads Report Compilation\"\n",
    "\n",
    "# Column name for the first column\n",
    "first_col = \"Start Date (in UTC)\""
   ]
  },
  {
   "cell_type": "code",
   "execution_count": 126,
   "metadata": {},
   "outputs": [
    {
     "name": "stdout",
     "output_type": "stream",
     "text": [
      "01 Jan 2023 - May 2023.csv\n",
      "Skipped 5 rows.\n",
      "No of rows = 861; No of columns = 88\n",
      "02 June 2023 - Nov 2023.csv\n",
      "Skipped 5 rows.\n",
      "No of rows = 2575; No of columns = 88\n",
      "03 Dec 2023 - Jan 24 2024.csv\n",
      "Skipped 5 rows.\n",
      "No of rows = 39; No of columns = 88\n",
      "Total no of row = 3475\n"
     ]
    }
   ],
   "source": [
    "# Compile the CSV\n",
    "df_report = compile_csv(folder_path, first_col, main_folder_path, \"Ads Performance Report Compilation.csv\")"
   ]
  },
  {
   "cell_type": "code",
   "execution_count": 127,
   "metadata": {},
   "outputs": [],
   "source": [
    "# column name to subset and rename\n",
    "\n",
    "report_ori_col = [\"Campaign Group Name\", \"Campaign Group ID\", \"Campaign Name\", \"Campaign ID\", \n",
    "                  \"Creative Name\", \"Ad ID\", \"Campaign Objective\", \"Creative Status\", \n",
    "                  \"Start Date (in UTC)\", \"Click URL\", \"Ad Introduction Text\", \"Ad Headline\"]\n",
    "\n",
    "# Take note that Start Date (in UTC) and Click URL col is not rename as preprocessing is still require\n",
    "report_rename_col = [\"Campaign Group\", \"Campaign Group ID\", \"Campaign name\", \"Campaign ID\", \n",
    "                     \"Ad Name\", \"Ad ID\", \"Stage\", \"Ad status\", \n",
    "                     \"Start Date (in UTC)\", \"Click URL\", \"Introduction Text\", \"Headline Text\"]"
   ]
  },
  {
   "cell_type": "markdown",
   "metadata": {},
   "source": [
    "Check whether the status for the campaign group, campaign, and creative/ad is correct"
   ]
  },
  {
   "cell_type": "code",
   "execution_count": 128,
   "metadata": {},
   "outputs": [
    {
     "data": {
      "text/plain": [
       "Campaign Group Status               [Paused]\n",
       "Campaign Status          [Completed, Paused]\n",
       "Creative Status             [Active, Paused]\n",
       "dtype: object"
      ]
     },
     "execution_count": 128,
     "metadata": {},
     "output_type": "execute_result"
    }
   ],
   "source": [
    "# Check Status\n",
    "df_report[['Campaign Group Status', 'Campaign Status', 'Creative Status']].apply(lambda col: col.unique())"
   ]
  },
  {
   "cell_type": "markdown",
   "metadata": {},
   "source": [
    "Check whether the number of campaign group, campaign ID, and Ad ID tally with your export"
   ]
  },
  {
   "cell_type": "code",
   "execution_count": 129,
   "metadata": {},
   "outputs": [
    {
     "data": {
      "text/plain": [
       "Campaign Group ID     2\n",
       "Campaign ID          21\n",
       "Ad ID                81\n",
       "dtype: int64"
      ]
     },
     "execution_count": 129,
     "metadata": {},
     "output_type": "execute_result"
    }
   ],
   "source": [
    "# Check the number of Campaign Groups, Campaign, and Ads\n",
    "df_report[['Campaign Group ID', 'Campaign ID', 'Ad ID']].apply(lambda col: col.nunique())"
   ]
  },
  {
   "cell_type": "markdown",
   "metadata": {},
   "source": [
    "Only take the rows with Clicks > 0"
   ]
  },
  {
   "cell_type": "code",
   "execution_count": 130,
   "metadata": {},
   "outputs": [
    {
     "name": "stdout",
     "output_type": "stream",
     "text": [
      "No of rows before exclude Clicks = '0': 3475\n",
      "No of rows after exclude Clicks = '0': 3333\n"
     ]
    }
   ],
   "source": [
    "print(f\"No of rows before exclude Clicks = '0': {df_report.shape[0]}\")\n",
    "\n",
    "df_report = df_report[df_report['Clicks'] > 0]\n",
    "\n",
    "print(f\"No of rows after exclude Clicks = '0': {df_report.shape[0]}\")"
   ]
  },
  {
   "cell_type": "code",
   "execution_count": 131,
   "metadata": {},
   "outputs": [],
   "source": [
    "# Subset the required field and rename the column\n",
    "df_report = df_report[report_ori_col]\n",
    "\n",
    "df_report.columns = report_rename_col"
   ]
  },
  {
   "cell_type": "code",
   "execution_count": 132,
   "metadata": {},
   "outputs": [
    {
     "data": {
      "text/html": [
       "<div>\n",
       "<style scoped>\n",
       "    .dataframe tbody tr th:only-of-type {\n",
       "        vertical-align: middle;\n",
       "    }\n",
       "\n",
       "    .dataframe tbody tr th {\n",
       "        vertical-align: top;\n",
       "    }\n",
       "\n",
       "    .dataframe thead th {\n",
       "        text-align: right;\n",
       "    }\n",
       "</style>\n",
       "<table border=\"1\" class=\"dataframe\">\n",
       "  <thead>\n",
       "    <tr style=\"text-align: right;\">\n",
       "      <th></th>\n",
       "      <th>Campaign Group</th>\n",
       "      <th>Campaign Group ID</th>\n",
       "      <th>Campaign name</th>\n",
       "      <th>Campaign ID</th>\n",
       "      <th>Ad Name</th>\n",
       "      <th>Ad ID</th>\n",
       "      <th>Stage</th>\n",
       "      <th>Ad status</th>\n",
       "      <th>Start Date (in UTC)</th>\n",
       "      <th>Click URL</th>\n",
       "      <th>Introduction Text</th>\n",
       "      <th>Headline Text</th>\n",
       "    </tr>\n",
       "  </thead>\n",
       "  <tbody>\n",
       "    <tr>\n",
       "      <th>0</th>\n",
       "      <td>2023 Demand Gen Campaign Group</td>\n",
       "      <td>632500803</td>\n",
       "      <td>Net New General - February 2023</td>\n",
       "      <td>220750463</td>\n",
       "      <td>ICP-February.V1</td>\n",
       "      <td>231947133</td>\n",
       "      <td>Website visits</td>\n",
       "      <td>Active</td>\n",
       "      <td>2/18/2023</td>\n",
       "      <td>https://televerde.com/7-defining-characteristi...</td>\n",
       "      <td>Customers want to see socially responsible com...</td>\n",
       "      <td>Don't just talk the talk. Walk the talk.</td>\n",
       "    </tr>\n",
       "  </tbody>\n",
       "</table>\n",
       "</div>"
      ],
      "text/plain": [
       "                   Campaign Group  Campaign Group ID  \\\n",
       "0  2023 Demand Gen Campaign Group          632500803   \n",
       "\n",
       "                     Campaign name  Campaign ID          Ad Name      Ad ID  \\\n",
       "0  Net New General - February 2023    220750463  ICP-February.V1  231947133   \n",
       "\n",
       "            Stage Ad status Start Date (in UTC)  \\\n",
       "0  Website visits    Active           2/18/2023   \n",
       "\n",
       "                                           Click URL  \\\n",
       "0  https://televerde.com/7-defining-characteristi...   \n",
       "\n",
       "                                   Introduction Text  \\\n",
       "0  Customers want to see socially responsible com...   \n",
       "\n",
       "                              Headline Text  \n",
       "0  Don't just talk the talk. Walk the talk.  "
      ]
     },
     "execution_count": 132,
     "metadata": {},
     "output_type": "execute_result"
    }
   ],
   "source": [
    "df_report.head(1)"
   ]
  },
  {
   "cell_type": "markdown",
   "metadata": {},
   "source": [
    "#### Get the Launch date and Completed date"
   ]
  },
  {
   "cell_type": "code",
   "execution_count": 133,
   "metadata": {},
   "outputs": [
    {
     "data": {
      "text/html": [
       "<div>\n",
       "<style scoped>\n",
       "    .dataframe tbody tr th:only-of-type {\n",
       "        vertical-align: middle;\n",
       "    }\n",
       "\n",
       "    .dataframe tbody tr th {\n",
       "        vertical-align: top;\n",
       "    }\n",
       "\n",
       "    .dataframe thead th {\n",
       "        text-align: right;\n",
       "    }\n",
       "</style>\n",
       "<table border=\"1\" class=\"dataframe\">\n",
       "  <thead>\n",
       "    <tr style=\"text-align: right;\">\n",
       "      <th></th>\n",
       "      <th>Ad ID</th>\n",
       "      <th>Start Date (in UTC)</th>\n",
       "      <th>Date</th>\n",
       "    </tr>\n",
       "  </thead>\n",
       "  <tbody>\n",
       "    <tr>\n",
       "      <th>0</th>\n",
       "      <td>231947133</td>\n",
       "      <td>2/18/2023</td>\n",
       "      <td>2023-02-18</td>\n",
       "    </tr>\n",
       "    <tr>\n",
       "      <th>1</th>\n",
       "      <td>231947133</td>\n",
       "      <td>2/19/2023</td>\n",
       "      <td>2023-02-19</td>\n",
       "    </tr>\n",
       "    <tr>\n",
       "      <th>2</th>\n",
       "      <td>231947133</td>\n",
       "      <td>2/20/2023</td>\n",
       "      <td>2023-02-20</td>\n",
       "    </tr>\n",
       "    <tr>\n",
       "      <th>3</th>\n",
       "      <td>231947133</td>\n",
       "      <td>2/21/2023</td>\n",
       "      <td>2023-02-21</td>\n",
       "    </tr>\n",
       "    <tr>\n",
       "      <th>4</th>\n",
       "      <td>231947133</td>\n",
       "      <td>2/22/2023</td>\n",
       "      <td>2023-02-22</td>\n",
       "    </tr>\n",
       "  </tbody>\n",
       "</table>\n",
       "</div>"
      ],
      "text/plain": [
       "       Ad ID Start Date (in UTC)       Date\n",
       "0  231947133           2/18/2023 2023-02-18\n",
       "1  231947133           2/19/2023 2023-02-19\n",
       "2  231947133           2/20/2023 2023-02-20\n",
       "3  231947133           2/21/2023 2023-02-21\n",
       "4  231947133           2/22/2023 2023-02-22"
      ]
     },
     "execution_count": 133,
     "metadata": {},
     "output_type": "execute_result"
    }
   ],
   "source": [
    "ads_date = df_report[['Ad ID', 'Start Date (in UTC)']].copy()\n",
    "ads_date['Date'] = pd.to_datetime(ads_date['Start Date (in UTC)'])\n",
    "ads_date.head()"
   ]
  },
  {
   "cell_type": "code",
   "execution_count": 134,
   "metadata": {},
   "outputs": [
    {
     "data": {
      "text/html": [
       "<div>\n",
       "<style scoped>\n",
       "    .dataframe tbody tr th:only-of-type {\n",
       "        vertical-align: middle;\n",
       "    }\n",
       "\n",
       "    .dataframe tbody tr th {\n",
       "        vertical-align: top;\n",
       "    }\n",
       "\n",
       "    .dataframe thead th {\n",
       "        text-align: right;\n",
       "    }\n",
       "</style>\n",
       "<table border=\"1\" class=\"dataframe\">\n",
       "  <thead>\n",
       "    <tr style=\"text-align: right;\">\n",
       "      <th></th>\n",
       "      <th>Ad ID</th>\n",
       "      <th>Launch date</th>\n",
       "      <th>Completed date</th>\n",
       "    </tr>\n",
       "  </thead>\n",
       "  <tbody>\n",
       "    <tr>\n",
       "      <th>0</th>\n",
       "      <td>231947133</td>\n",
       "      <td>2023-02-18</td>\n",
       "      <td>2023-02-28</td>\n",
       "    </tr>\n",
       "    <tr>\n",
       "      <th>1</th>\n",
       "      <td>231947273</td>\n",
       "      <td>2023-02-18</td>\n",
       "      <td>2023-02-28</td>\n",
       "    </tr>\n",
       "    <tr>\n",
       "      <th>2</th>\n",
       "      <td>231949233</td>\n",
       "      <td>2023-02-18</td>\n",
       "      <td>2023-02-28</td>\n",
       "    </tr>\n",
       "    <tr>\n",
       "      <th>3</th>\n",
       "      <td>231949273</td>\n",
       "      <td>2023-02-18</td>\n",
       "      <td>2023-02-28</td>\n",
       "    </tr>\n",
       "    <tr>\n",
       "      <th>4</th>\n",
       "      <td>231949853</td>\n",
       "      <td>2023-02-18</td>\n",
       "      <td>2023-02-28</td>\n",
       "    </tr>\n",
       "    <tr>\n",
       "      <th>...</th>\n",
       "      <td>...</td>\n",
       "      <td>...</td>\n",
       "      <td>...</td>\n",
       "    </tr>\n",
       "    <tr>\n",
       "      <th>76</th>\n",
       "      <td>310860716</td>\n",
       "      <td>2023-09-22</td>\n",
       "      <td>2023-11-15</td>\n",
       "    </tr>\n",
       "    <tr>\n",
       "      <th>77</th>\n",
       "      <td>310860736</td>\n",
       "      <td>2023-09-22</td>\n",
       "      <td>2023-11-15</td>\n",
       "    </tr>\n",
       "    <tr>\n",
       "      <th>78</th>\n",
       "      <td>324756683</td>\n",
       "      <td>2023-11-16</td>\n",
       "      <td>2023-12-12</td>\n",
       "    </tr>\n",
       "    <tr>\n",
       "      <th>79</th>\n",
       "      <td>324783513</td>\n",
       "      <td>2023-11-16</td>\n",
       "      <td>2023-12-12</td>\n",
       "    </tr>\n",
       "    <tr>\n",
       "      <th>80</th>\n",
       "      <td>324810173</td>\n",
       "      <td>2023-11-16</td>\n",
       "      <td>2023-12-12</td>\n",
       "    </tr>\n",
       "  </tbody>\n",
       "</table>\n",
       "<p>81 rows × 3 columns</p>\n",
       "</div>"
      ],
      "text/plain": [
       "        Ad ID Launch date Completed date\n",
       "0   231947133  2023-02-18     2023-02-28\n",
       "1   231947273  2023-02-18     2023-02-28\n",
       "2   231949233  2023-02-18     2023-02-28\n",
       "3   231949273  2023-02-18     2023-02-28\n",
       "4   231949853  2023-02-18     2023-02-28\n",
       "..        ...         ...            ...\n",
       "76  310860716  2023-09-22     2023-11-15\n",
       "77  310860736  2023-09-22     2023-11-15\n",
       "78  324756683  2023-11-16     2023-12-12\n",
       "79  324783513  2023-11-16     2023-12-12\n",
       "80  324810173  2023-11-16     2023-12-12\n",
       "\n",
       "[81 rows x 3 columns]"
      ]
     },
     "execution_count": 134,
     "metadata": {},
     "output_type": "execute_result"
    }
   ],
   "source": [
    "# Create aggregation to get the max and min\n",
    "launch_comp_date = pd.pivot_table(ads_date, values='Date', index=['Ad ID'], aggfunc=['min', 'max']).reset_index()\\\n",
    "\n",
    "# Rename to the correct name\n",
    "launch_comp_date.rename(columns={'min':'Launch date', 'max':'Completed date'}, inplace=True)\n",
    "\n",
    "# Drop MultiIndex\n",
    "launch_comp_date = launch_comp_date.droplevel(1, axis=1)\n",
    "\n",
    "launch_comp_date"
   ]
  },
  {
   "cell_type": "markdown",
   "metadata": {},
   "source": [
    "Update `ads_date_file` (Rmb to include .csv)"
   ]
  },
  {
   "cell_type": "code",
   "execution_count": 135,
   "metadata": {},
   "outputs": [],
   "source": [
    "ads_date_file = \"Launch date and Completed date check.csv\""
   ]
  },
  {
   "cell_type": "code",
   "execution_count": 136,
   "metadata": {},
   "outputs": [],
   "source": [
    "ads_date.to_csv(os.path.join(main_folder_path, date_code_excute + \"-\" + ads_date_file))"
   ]
  },
  {
   "cell_type": "markdown",
   "metadata": {},
   "source": [
    "#### Process Ads Performance Report for utm source & remap stage"
   ]
  },
  {
   "cell_type": "code",
   "execution_count": 137,
   "metadata": {},
   "outputs": [],
   "source": [
    "df_report.drop('Start Date (in UTC)', axis=1, inplace=True)\n",
    "df_report.drop_duplicates(inplace=True)"
   ]
  },
  {
   "cell_type": "code",
   "execution_count": 138,
   "metadata": {},
   "outputs": [],
   "source": [
    "# Extract for website and utm source\n",
    "df_report['Website URL'] = df_report['Click URL'].apply(lambda x: website_utm_split(x, \"website\"))\n",
    "df_report['utm_source'] = df_report['Click URL'].apply(lambda x: website_utm_split(x, \"utm_source\"))\n",
    "df_report['utm_medium'] = df_report['Click URL'].apply(lambda x: website_utm_split(x, \"utm_medium\"))\n",
    "df_report['utm_campaign'] = df_report['Click URL'].apply(lambda x: website_utm_split(x, \"utm_campaign\"))\n",
    "df_report['utm_content'] = df_report['Click URL'].apply(lambda x: website_utm_split(x, \"utm_content\"))\n",
    "df_report['utm_term'] = df_report['Click URL'].apply(lambda x: website_utm_split(x, \"utm_term\"))\n",
    "df_report['utm_id'] = df_report['Click URL'].apply(lambda x: website_utm_split(x, \"utm_id\"))"
   ]
  },
  {
   "cell_type": "code",
   "execution_count": 139,
   "metadata": {},
   "outputs": [],
   "source": [
    "# Remap for stage\n",
    "df_report['Stage'] = df_report.apply(remap_campaign_obj, axis=1)"
   ]
  },
  {
   "cell_type": "code",
   "execution_count": 140,
   "metadata": {},
   "outputs": [
    {
     "data": {
      "text/plain": [
       "Index(['Campaign Group', 'Campaign Group ID', 'Campaign name', 'Campaign ID',\n",
       "       'Ad Name', 'Ad ID', 'Stage', 'Ad status', 'Introduction Text',\n",
       "       'Headline Text', 'Website URL', 'utm_source', 'utm_medium',\n",
       "       'utm_campaign', 'utm_content', 'utm_term', 'utm_id'],\n",
       "      dtype='object')"
      ]
     },
     "execution_count": 140,
     "metadata": {},
     "output_type": "execute_result"
    }
   ],
   "source": [
    "# Drop the Click URL columns\n",
    "df_report.drop('Click URL', axis=1, inplace=True)\n",
    "df_report.columns"
   ]
  },
  {
   "cell_type": "markdown",
   "metadata": {},
   "source": [
    "#### Compile Ads LinkedIn Bulk Export (Sometimes the Ads Bulk Export does not work, try with Campaign instead)"
   ]
  },
  {
   "cell_type": "markdown",
   "metadata": {},
   "source": [
    "Use the `compile_csv` function above to compile the bulk export (For cases where your client has multiple ad accounts)"
   ]
  },
  {
   "cell_type": "code",
   "execution_count": null,
   "metadata": {},
   "outputs": [],
   "source": [
    "\"\"\"\n",
    "campaign_bulk_folder = r\"C:\\Users\\WeiZhenLim\\OneDrive - 2X LLC\\Work\\013-016, 033 Televerde\\Televerde Ad Optimization\\03 Broadcom LinkedIn Campaign Manager Export\\LinkedIn Campaign Bulk Report Compilation\"\n",
    "\n",
    "compile_csv(campaign_bulk_folder, \"*Account ID\", main_folder_path, \"LinkedIn Bulk Export.csv\")\n",
    "\n",
    "\"\"\""
   ]
  },
  {
   "cell_type": "markdown",
   "metadata": {},
   "source": [
    "Update `linkedin_bulk_export_file` (Rmb to include .csv)"
   ]
  },
  {
   "cell_type": "code",
   "execution_count": 141,
   "metadata": {},
   "outputs": [],
   "source": [
    "linkedin_bulk_export_file = \"20240124-LinkedIn Bulk Export.csv\""
   ]
  },
  {
   "cell_type": "code",
   "execution_count": 142,
   "metadata": {},
   "outputs": [],
   "source": [
    "# function to return the correct list of columns\n",
    "def ad_or_campaign(group_type):\n",
    "\n",
    "    if group_type not in [\"Ad\", \"Campaign\"]:\n",
    "        raise ValueError(\"The group_type must be either Ad or Campaign\")\n",
    "\n",
    "    if group_type == \"Ad\":\n",
    "        return [['Creative ID', 'Ad format'], ['Ad ID', 'Ad type']]\n",
    "    else:\n",
    "        return [['Campaign ID', '*Ad Format'], ['Campaign ID', 'Ad type']]"
   ]
  },
  {
   "cell_type": "code",
   "execution_count": 143,
   "metadata": {},
   "outputs": [],
   "source": [
    "# function for Campaign or Ads Bulk Export\n",
    "def ads_or_campaign_bulk(folder_path, filename, group_type):\n",
    "\n",
    "    \"\"\"\n",
    "    folder_path refers to the folder that contains the bulk export \\n\n",
    "    filename refers to the filename of the bulk export csv (Remember to include the .csv extension) \\n\n",
    "    group_type refers to the type of CSV bulk export from LinkedIn. It can only be either \"Ad\" or \"Campaign\"\n",
    "    \"\"\"\n",
    "\n",
    "    if group_type not in [\"Ad\", \"Campaign\"]:\n",
    "        raise ValueError(\"The group_type must be either Ad or Campaign\")\n",
    "\n",
    "    try:\n",
    "\n",
    "        df_bulk = pd.read_csv(os.path.join(folder_path, filename))\n",
    "\n",
    "    except UnicodeDecodeError:\n",
    "        try:\n",
    "\n",
    "            df_bulk = pd.read_csv(os.path.join(folder_path, filename), sep='\\t', encoding='utf-16')\n",
    "\n",
    "        except Exception as e:\n",
    "            print(f\"Could not read file {filename} because of error: {e}\")\n",
    "\n",
    "    except Exception as e:\n",
    "        print(f\"Could not read file {filename} because of error: {e}\")\n",
    "    \n",
    "    ori_col_name = ad_or_campaign(group_type)[0]\n",
    "\n",
    "    new_col_name = ad_or_campaign(group_type)[1]\n",
    "\n",
    "    df_bulk = df_bulk[ori_col_name]\n",
    "\n",
    "    df_bulk.columns = new_col_name\n",
    "        \n",
    "    return df_bulk"
   ]
  },
  {
   "cell_type": "code",
   "execution_count": 144,
   "metadata": {},
   "outputs": [],
   "source": [
    "df_bulk = ads_or_campaign_bulk(main_folder_path, linkedin_bulk_export_file, \"Ad\") # Comment this block if Campaign Bulk Export is used\n",
    "\n",
    "# df_bulk = ads_or_campaign_bulk(main_folder_path, linkedin_bulk_export_file, \"Campaign\") # Uncomment this block if Campaign Bulk Export is used"
   ]
  },
  {
   "cell_type": "code",
   "execution_count": 145,
   "metadata": {},
   "outputs": [
    {
     "data": {
      "text/html": [
       "<div>\n",
       "<style scoped>\n",
       "    .dataframe tbody tr th:only-of-type {\n",
       "        vertical-align: middle;\n",
       "    }\n",
       "\n",
       "    .dataframe tbody tr th {\n",
       "        vertical-align: top;\n",
       "    }\n",
       "\n",
       "    .dataframe thead th {\n",
       "        text-align: right;\n",
       "    }\n",
       "</style>\n",
       "<table border=\"1\" class=\"dataframe\">\n",
       "  <thead>\n",
       "    <tr style=\"text-align: right;\">\n",
       "      <th></th>\n",
       "      <th>Ad ID</th>\n",
       "      <th>Ad type</th>\n",
       "    </tr>\n",
       "  </thead>\n",
       "  <tbody>\n",
       "    <tr>\n",
       "      <th>0</th>\n",
       "      <td>310837536</td>\n",
       "      <td>Single image ad</td>\n",
       "    </tr>\n",
       "    <tr>\n",
       "      <th>1</th>\n",
       "      <td>310827936</td>\n",
       "      <td>Single image ad</td>\n",
       "    </tr>\n",
       "    <tr>\n",
       "      <th>2</th>\n",
       "      <td>310860736</td>\n",
       "      <td>Single image ad</td>\n",
       "    </tr>\n",
       "    <tr>\n",
       "      <th>3</th>\n",
       "      <td>235609313</td>\n",
       "      <td>Single image ad</td>\n",
       "    </tr>\n",
       "    <tr>\n",
       "      <th>4</th>\n",
       "      <td>277644993</td>\n",
       "      <td>Single image ad</td>\n",
       "    </tr>\n",
       "  </tbody>\n",
       "</table>\n",
       "</div>"
      ],
      "text/plain": [
       "       Ad ID          Ad type\n",
       "0  310837536  Single image ad\n",
       "1  310827936  Single image ad\n",
       "2  310860736  Single image ad\n",
       "3  235609313  Single image ad\n",
       "4  277644993  Single image ad"
      ]
     },
     "execution_count": 145,
     "metadata": {},
     "output_type": "execute_result"
    }
   ],
   "source": [
    "df_bulk.head()"
   ]
  },
  {
   "cell_type": "markdown",
   "metadata": {},
   "source": [
    "To check the number of ads you had on LinkedIn"
   ]
  },
  {
   "cell_type": "code",
   "execution_count": 146,
   "metadata": {},
   "outputs": [
    {
     "data": {
      "text/plain": [
       "60"
      ]
     },
     "execution_count": 146,
     "metadata": {},
     "output_type": "execute_result"
    }
   ],
   "source": [
    "# Check Stats\n",
    "df_bulk['Ad ID'].nunique() # Comment this block if Campaign Bulk Export is used\n",
    "# df_bulk['Campaign ID'].nunique() # Uncomment this block if Campaign Bulk Export is used"
   ]
  },
  {
   "cell_type": "markdown",
   "metadata": {},
   "source": [
    "To check whether the ad types matches with the ads types that you had on LinkedIn"
   ]
  },
  {
   "cell_type": "code",
   "execution_count": 147,
   "metadata": {},
   "outputs": [
    {
     "data": {
      "text/plain": [
       "array(['Single image ad'], dtype=object)"
      ]
     },
     "execution_count": 147,
     "metadata": {},
     "output_type": "execute_result"
    }
   ],
   "source": [
    "# Check Stats\n",
    "df_bulk['Ad type'].unique()"
   ]
  },
  {
   "cell_type": "markdown",
   "metadata": {},
   "source": [
    "#### Join all dataframe together"
   ]
  },
  {
   "cell_type": "code",
   "execution_count": 148,
   "metadata": {},
   "outputs": [
    {
     "data": {
      "text/html": [
       "<div>\n",
       "<style scoped>\n",
       "    .dataframe tbody tr th:only-of-type {\n",
       "        vertical-align: middle;\n",
       "    }\n",
       "\n",
       "    .dataframe tbody tr th {\n",
       "        vertical-align: top;\n",
       "    }\n",
       "\n",
       "    .dataframe thead th {\n",
       "        text-align: right;\n",
       "    }\n",
       "</style>\n",
       "<table border=\"1\" class=\"dataframe\">\n",
       "  <thead>\n",
       "    <tr style=\"text-align: right;\">\n",
       "      <th></th>\n",
       "      <th>Campaign Group</th>\n",
       "      <th>Campaign Group ID</th>\n",
       "      <th>Campaign name</th>\n",
       "      <th>Campaign ID</th>\n",
       "      <th>Ad Name</th>\n",
       "      <th>Ad ID</th>\n",
       "      <th>Stage</th>\n",
       "      <th>Ad status</th>\n",
       "      <th>Introduction Text</th>\n",
       "      <th>Headline Text</th>\n",
       "      <th>Website URL</th>\n",
       "      <th>utm_source</th>\n",
       "      <th>utm_medium</th>\n",
       "      <th>utm_campaign</th>\n",
       "      <th>utm_content</th>\n",
       "      <th>utm_term</th>\n",
       "      <th>utm_id</th>\n",
       "    </tr>\n",
       "  </thead>\n",
       "  <tbody>\n",
       "    <tr>\n",
       "      <th>0</th>\n",
       "      <td>2023 Demand Gen Campaign Group</td>\n",
       "      <td>632500803</td>\n",
       "      <td>Net New General - February 2023</td>\n",
       "      <td>220750463</td>\n",
       "      <td>ICP-February.V1</td>\n",
       "      <td>231947133</td>\n",
       "      <td>Consideration</td>\n",
       "      <td>Active</td>\n",
       "      <td>Customers want to see socially responsible com...</td>\n",
       "      <td>Don't just talk the talk. Walk the talk.</td>\n",
       "      <td>https://televerde.com/7-defining-characteristi...</td>\n",
       "      <td></td>\n",
       "      <td></td>\n",
       "      <td></td>\n",
       "      <td></td>\n",
       "      <td></td>\n",
       "      <td></td>\n",
       "    </tr>\n",
       "  </tbody>\n",
       "</table>\n",
       "</div>"
      ],
      "text/plain": [
       "                   Campaign Group  Campaign Group ID  \\\n",
       "0  2023 Demand Gen Campaign Group          632500803   \n",
       "\n",
       "                     Campaign name  Campaign ID          Ad Name      Ad ID  \\\n",
       "0  Net New General - February 2023    220750463  ICP-February.V1  231947133   \n",
       "\n",
       "           Stage Ad status                                  Introduction Text  \\\n",
       "0  Consideration    Active  Customers want to see socially responsible com...   \n",
       "\n",
       "                              Headline Text  \\\n",
       "0  Don't just talk the talk. Walk the talk.   \n",
       "\n",
       "                                         Website URL utm_source utm_medium  \\\n",
       "0  https://televerde.com/7-defining-characteristi...                         \n",
       "\n",
       "  utm_campaign utm_content utm_term utm_id  \n",
       "0                                           "
      ]
     },
     "metadata": {},
     "output_type": "display_data"
    },
    {
     "data": {
      "text/html": [
       "<div>\n",
       "<style scoped>\n",
       "    .dataframe tbody tr th:only-of-type {\n",
       "        vertical-align: middle;\n",
       "    }\n",
       "\n",
       "    .dataframe tbody tr th {\n",
       "        vertical-align: top;\n",
       "    }\n",
       "\n",
       "    .dataframe thead th {\n",
       "        text-align: right;\n",
       "    }\n",
       "</style>\n",
       "<table border=\"1\" class=\"dataframe\">\n",
       "  <thead>\n",
       "    <tr style=\"text-align: right;\">\n",
       "      <th></th>\n",
       "      <th>Ad ID</th>\n",
       "      <th>Launch date</th>\n",
       "      <th>Completed date</th>\n",
       "    </tr>\n",
       "  </thead>\n",
       "  <tbody>\n",
       "    <tr>\n",
       "      <th>0</th>\n",
       "      <td>231947133</td>\n",
       "      <td>2023-02-18</td>\n",
       "      <td>2023-02-28</td>\n",
       "    </tr>\n",
       "  </tbody>\n",
       "</table>\n",
       "</div>"
      ],
      "text/plain": [
       "       Ad ID Launch date Completed date\n",
       "0  231947133  2023-02-18     2023-02-28"
      ]
     },
     "metadata": {},
     "output_type": "display_data"
    },
    {
     "data": {
      "text/html": [
       "<div>\n",
       "<style scoped>\n",
       "    .dataframe tbody tr th:only-of-type {\n",
       "        vertical-align: middle;\n",
       "    }\n",
       "\n",
       "    .dataframe tbody tr th {\n",
       "        vertical-align: top;\n",
       "    }\n",
       "\n",
       "    .dataframe thead th {\n",
       "        text-align: right;\n",
       "    }\n",
       "</style>\n",
       "<table border=\"1\" class=\"dataframe\">\n",
       "  <thead>\n",
       "    <tr style=\"text-align: right;\">\n",
       "      <th></th>\n",
       "      <th>Ad ID</th>\n",
       "      <th>Ad type</th>\n",
       "    </tr>\n",
       "  </thead>\n",
       "  <tbody>\n",
       "    <tr>\n",
       "      <th>0</th>\n",
       "      <td>310837536</td>\n",
       "      <td>Single image ad</td>\n",
       "    </tr>\n",
       "  </tbody>\n",
       "</table>\n",
       "</div>"
      ],
      "text/plain": [
       "       Ad ID          Ad type\n",
       "0  310837536  Single image ad"
      ]
     },
     "metadata": {},
     "output_type": "display_data"
    }
   ],
   "source": [
    "display(df_report.head(1))\n",
    "display(launch_comp_date.head(1))\n",
    "display(df_bulk.head(1))"
   ]
  },
  {
   "cell_type": "markdown",
   "metadata": {},
   "source": [
    "Remember to update the key for the second merge as Campaign ID (If you are using Campaign Bulk Export)"
   ]
  },
  {
   "cell_type": "code",
   "execution_count": 149,
   "metadata": {},
   "outputs": [
    {
     "data": {
      "text/html": [
       "<div>\n",
       "<style scoped>\n",
       "    .dataframe tbody tr th:only-of-type {\n",
       "        vertical-align: middle;\n",
       "    }\n",
       "\n",
       "    .dataframe tbody tr th {\n",
       "        vertical-align: top;\n",
       "    }\n",
       "\n",
       "    .dataframe thead th {\n",
       "        text-align: right;\n",
       "    }\n",
       "</style>\n",
       "<table border=\"1\" class=\"dataframe\">\n",
       "  <thead>\n",
       "    <tr style=\"text-align: right;\">\n",
       "      <th></th>\n",
       "      <th>Campaign Group</th>\n",
       "      <th>Campaign Group ID</th>\n",
       "      <th>Campaign name</th>\n",
       "      <th>Campaign ID</th>\n",
       "      <th>Ad Name</th>\n",
       "      <th>Ad ID</th>\n",
       "      <th>Stage</th>\n",
       "      <th>Ad status</th>\n",
       "      <th>Introduction Text</th>\n",
       "      <th>Headline Text</th>\n",
       "      <th>Website URL</th>\n",
       "      <th>utm_source</th>\n",
       "      <th>utm_medium</th>\n",
       "      <th>utm_campaign</th>\n",
       "      <th>utm_content</th>\n",
       "      <th>utm_term</th>\n",
       "      <th>utm_id</th>\n",
       "      <th>Launch date</th>\n",
       "      <th>Completed date</th>\n",
       "      <th>Ad type</th>\n",
       "    </tr>\n",
       "  </thead>\n",
       "  <tbody>\n",
       "    <tr>\n",
       "      <th>0</th>\n",
       "      <td>2023 Demand Gen Campaign Group</td>\n",
       "      <td>632500803</td>\n",
       "      <td>Net New General - February 2023</td>\n",
       "      <td>220750463</td>\n",
       "      <td>ICP-February.V1</td>\n",
       "      <td>231947133</td>\n",
       "      <td>Consideration</td>\n",
       "      <td>Active</td>\n",
       "      <td>Customers want to see socially responsible com...</td>\n",
       "      <td>Don't just talk the talk. Walk the talk.</td>\n",
       "      <td>https://televerde.com/7-defining-characteristi...</td>\n",
       "      <td></td>\n",
       "      <td></td>\n",
       "      <td></td>\n",
       "      <td></td>\n",
       "      <td></td>\n",
       "      <td></td>\n",
       "      <td>2023-02-18</td>\n",
       "      <td>2023-02-28</td>\n",
       "      <td>Single image ad</td>\n",
       "    </tr>\n",
       "    <tr>\n",
       "      <th>1</th>\n",
       "      <td>2023 Demand Gen Campaign Group</td>\n",
       "      <td>632500803</td>\n",
       "      <td>Net New General - February 2023</td>\n",
       "      <td>220750463</td>\n",
       "      <td>ICP-February.V2</td>\n",
       "      <td>231947273</td>\n",
       "      <td>Consideration</td>\n",
       "      <td>Active</td>\n",
       "      <td>Keeping pace with digital demands is what will...</td>\n",
       "      <td>Technology is rapidly evolving. Are you evolvi...</td>\n",
       "      <td>https://televerde.com/6-ways-you-can-make-a-gr...</td>\n",
       "      <td></td>\n",
       "      <td></td>\n",
       "      <td></td>\n",
       "      <td></td>\n",
       "      <td></td>\n",
       "      <td></td>\n",
       "      <td>2023-02-18</td>\n",
       "      <td>2023-02-28</td>\n",
       "      <td>Single image ad</td>\n",
       "    </tr>\n",
       "    <tr>\n",
       "      <th>2</th>\n",
       "      <td>2023 Demand Gen Campaign Group</td>\n",
       "      <td>632500803</td>\n",
       "      <td>Net New Manufacturing - February 2023</td>\n",
       "      <td>220751003</td>\n",
       "      <td>ICP-February.V3</td>\n",
       "      <td>231949233</td>\n",
       "      <td>Consideration</td>\n",
       "      <td>Active</td>\n",
       "      <td>Modernization is the secret to getting ahead o...</td>\n",
       "      <td>Technology is rapidly evolving. Are you evolvi...</td>\n",
       "      <td>https://televerde.com/6-ways-you-can-make-a-gr...</td>\n",
       "      <td></td>\n",
       "      <td></td>\n",
       "      <td></td>\n",
       "      <td></td>\n",
       "      <td></td>\n",
       "      <td></td>\n",
       "      <td>2023-02-18</td>\n",
       "      <td>2023-02-28</td>\n",
       "      <td>Single image ad</td>\n",
       "    </tr>\n",
       "    <tr>\n",
       "      <th>3</th>\n",
       "      <td>2023 Demand Gen Campaign Group</td>\n",
       "      <td>632500803</td>\n",
       "      <td>Net New Manufacturing - February 2023</td>\n",
       "      <td>220751003</td>\n",
       "      <td>ICP-February.V4</td>\n",
       "      <td>231949273</td>\n",
       "      <td>Consideration</td>\n",
       "      <td>Active</td>\n",
       "      <td>You're dealing with labor shortage, skills gap...</td>\n",
       "      <td>A positive customer experience is integral for...</td>\n",
       "      <td>https://televerde.com/5-smart-strategies-for-h...</td>\n",
       "      <td></td>\n",
       "      <td></td>\n",
       "      <td></td>\n",
       "      <td></td>\n",
       "      <td></td>\n",
       "      <td></td>\n",
       "      <td>2023-02-18</td>\n",
       "      <td>2023-02-28</td>\n",
       "      <td>Single image ad</td>\n",
       "    </tr>\n",
       "    <tr>\n",
       "      <th>4</th>\n",
       "      <td>2023 Demand Gen Campaign Group</td>\n",
       "      <td>632500803</td>\n",
       "      <td>Net New Software - February 2023</td>\n",
       "      <td>220751633</td>\n",
       "      <td>ICP-February.V5</td>\n",
       "      <td>231949853</td>\n",
       "      <td>Consideration</td>\n",
       "      <td>Active</td>\n",
       "      <td>Providing a superior customer experience could...</td>\n",
       "      <td>A positive customer experience is integral for...</td>\n",
       "      <td>https://televerde.com/5-smart-strategies-for-h...</td>\n",
       "      <td></td>\n",
       "      <td></td>\n",
       "      <td></td>\n",
       "      <td></td>\n",
       "      <td></td>\n",
       "      <td></td>\n",
       "      <td>2023-02-18</td>\n",
       "      <td>2023-02-28</td>\n",
       "      <td>Single image ad</td>\n",
       "    </tr>\n",
       "  </tbody>\n",
       "</table>\n",
       "</div>"
      ],
      "text/plain": [
       "                   Campaign Group  Campaign Group ID  \\\n",
       "0  2023 Demand Gen Campaign Group          632500803   \n",
       "1  2023 Demand Gen Campaign Group          632500803   \n",
       "2  2023 Demand Gen Campaign Group          632500803   \n",
       "3  2023 Demand Gen Campaign Group          632500803   \n",
       "4  2023 Demand Gen Campaign Group          632500803   \n",
       "\n",
       "                           Campaign name  Campaign ID          Ad Name  \\\n",
       "0        Net New General - February 2023    220750463  ICP-February.V1   \n",
       "1        Net New General - February 2023    220750463  ICP-February.V2   \n",
       "2  Net New Manufacturing - February 2023    220751003  ICP-February.V3   \n",
       "3  Net New Manufacturing - February 2023    220751003  ICP-February.V4   \n",
       "4       Net New Software - February 2023    220751633  ICP-February.V5   \n",
       "\n",
       "       Ad ID          Stage Ad status  \\\n",
       "0  231947133  Consideration    Active   \n",
       "1  231947273  Consideration    Active   \n",
       "2  231949233  Consideration    Active   \n",
       "3  231949273  Consideration    Active   \n",
       "4  231949853  Consideration    Active   \n",
       "\n",
       "                                   Introduction Text  \\\n",
       "0  Customers want to see socially responsible com...   \n",
       "1  Keeping pace with digital demands is what will...   \n",
       "2  Modernization is the secret to getting ahead o...   \n",
       "3  You're dealing with labor shortage, skills gap...   \n",
       "4  Providing a superior customer experience could...   \n",
       "\n",
       "                                       Headline Text  \\\n",
       "0           Don't just talk the talk. Walk the talk.   \n",
       "1  Technology is rapidly evolving. Are you evolvi...   \n",
       "2  Technology is rapidly evolving. Are you evolvi...   \n",
       "3  A positive customer experience is integral for...   \n",
       "4  A positive customer experience is integral for...   \n",
       "\n",
       "                                         Website URL utm_source utm_medium  \\\n",
       "0  https://televerde.com/7-defining-characteristi...                         \n",
       "1  https://televerde.com/6-ways-you-can-make-a-gr...                         \n",
       "2  https://televerde.com/6-ways-you-can-make-a-gr...                         \n",
       "3  https://televerde.com/5-smart-strategies-for-h...                         \n",
       "4  https://televerde.com/5-smart-strategies-for-h...                         \n",
       "\n",
       "  utm_campaign utm_content utm_term utm_id Launch date Completed date  \\\n",
       "0                                           2023-02-18     2023-02-28   \n",
       "1                                           2023-02-18     2023-02-28   \n",
       "2                                           2023-02-18     2023-02-28   \n",
       "3                                           2023-02-18     2023-02-28   \n",
       "4                                           2023-02-18     2023-02-28   \n",
       "\n",
       "           Ad type  \n",
       "0  Single image ad  \n",
       "1  Single image ad  \n",
       "2  Single image ad  \n",
       "3  Single image ad  \n",
       "4  Single image ad  "
      ]
     },
     "execution_count": 149,
     "metadata": {},
     "output_type": "execute_result"
    }
   ],
   "source": [
    "df_ads_final = pd.merge(left=df_report, right=launch_comp_date, how='left', on='Ad ID')\n",
    "df_ads_final = pd.merge(left=df_ads_final, right=df_bulk, how='left', on='Ad ID') # Comment this if Campaign Bulk Export is used\n",
    "# df_ads_final = pd.merge(left=df_ads_final, right=df_bulk, how='left', on='Campaign ID') # Uncomment this if Campaign Bulk Export is used\n",
    "df_ads_final.head()"
   ]
  },
  {
   "cell_type": "code",
   "execution_count": 150,
   "metadata": {},
   "outputs": [],
   "source": [
    "# Exit if the number of columns is not exactly 20. Check the column naming\n",
    "if df_ads_final.shape[1] != 20:\n",
    "    sys.exit(\"Number of columns does not match with Airtable Column Naming. Please Check\")"
   ]
  },
  {
   "cell_type": "markdown",
   "metadata": {},
   "source": [
    "#### Convert into Airtable Format"
   ]
  },
  {
   "cell_type": "markdown",
   "metadata": {},
   "source": [
    "Update `airtable_col_filename` (Rmb to include .csv)"
   ]
  },
  {
   "cell_type": "code",
   "execution_count": 151,
   "metadata": {},
   "outputs": [],
   "source": [
    "airtable_col_filename = \"Airtable Column.csv\""
   ]
  },
  {
   "cell_type": "code",
   "execution_count": 152,
   "metadata": {},
   "outputs": [],
   "source": [
    "df_airtable = pd.read_csv(os.path.join(main_folder_path, airtable_col_filename))"
   ]
  },
  {
   "cell_type": "code",
   "execution_count": 153,
   "metadata": {},
   "outputs": [
    {
     "name": "stderr",
     "output_type": "stream",
     "text": [
      "C:\\Users\\WeiZhenLim\\AppData\\Local\\Temp\\ipykernel_12720\\2786435345.py:1: FutureWarning: The behavior of DataFrame concatenation with empty or all-NA entries is deprecated. In a future version, this will no longer exclude empty or all-NA columns when determining the result dtypes. To retain the old behavior, exclude the relevant entries before the concat operation.\n",
      "  df_final = pd.concat([df_airtable, df_ads_final])\n"
     ]
    }
   ],
   "source": [
    "df_final = pd.concat([df_airtable, df_ads_final])"
   ]
  },
  {
   "cell_type": "code",
   "execution_count": 154,
   "metadata": {},
   "outputs": [],
   "source": [
    "# Exit if the number of columns does not match with Airtable. Check the column naming\n",
    "if df_final.shape[1] != df_airtable.shape[1]:\n",
    "    sys.exit(\"Number of columns does not match with Airtable. Please Check\")"
   ]
  },
  {
   "cell_type": "markdown",
   "metadata": {},
   "source": [
    "The following line of code is subjected to change as the following is inserted because LinkedIn could not export Conversation ad."
   ]
  },
  {
   "cell_type": "code",
   "execution_count": 155,
   "metadata": {},
   "outputs": [
    {
     "data": {
      "text/plain": [
       "Ad type\n",
       "Single image ad    60\n",
       "Conversation ad    21\n",
       "Name: count, dtype: int64"
      ]
     },
     "execution_count": 155,
     "metadata": {},
     "output_type": "execute_result"
    }
   ],
   "source": [
    "# Replace missing with \"Conversation ad\"\n",
    "df_final['Ad type'] = df_final['Ad type'].apply(lambda x: x if x == \"Single image ad\" else \"Conversation ad\")\n",
    "df_final['Ad type'].value_counts()"
   ]
  },
  {
   "cell_type": "markdown",
   "metadata": {},
   "source": [
    "The following line of code is subjected to the size used for the campaign. Hence the logic will be different."
   ]
  },
  {
   "cell_type": "code",
   "execution_count": 156,
   "metadata": {},
   "outputs": [
    {
     "data": {
      "text/plain": [
       "Size\n",
       "1200x628    60\n",
       "            21\n",
       "Name: count, dtype: int64"
      ]
     },
     "execution_count": 156,
     "metadata": {},
     "output_type": "execute_result"
    }
   ],
   "source": [
    "# Update size\n",
    "df_final['Size'] = df_final['Ad type'].apply(lambda x: \"1200x628\" if x == \"Single image ad\" else \"\")\n",
    "df_final['Size'].value_counts()"
   ]
  },
  {
   "cell_type": "markdown",
   "metadata": {},
   "source": [
    "The following line of code could be different depending on the LinkedIn Ads setting."
   ]
  },
  {
   "cell_type": "code",
   "execution_count": 157,
   "metadata": {},
   "outputs": [],
   "source": [
    "# Update Label and Platform\n",
    "df_final['Label'] = \"Show\"\n",
    "df_final['Platform'] = \"LinkedIn\""
   ]
  },
  {
   "cell_type": "markdown",
   "metadata": {},
   "source": [
    "#### Subset the compiled dataframe based on your requirement (If necessary)"
   ]
  },
  {
   "cell_type": "code",
   "execution_count": null,
   "metadata": {},
   "outputs": [],
   "source": []
  },
  {
   "cell_type": "markdown",
   "metadata": {},
   "source": [
    "#### Export to csv"
   ]
  },
  {
   "cell_type": "markdown",
   "metadata": {},
   "source": [
    "Update the `output_filename` (Rmb to include .csv)"
   ]
  },
  {
   "cell_type": "code",
   "execution_count": 158,
   "metadata": {},
   "outputs": [],
   "source": [
    "output_filename = \"Televerde LinkedIn to Airtable.csv\""
   ]
  },
  {
   "cell_type": "code",
   "execution_count": 159,
   "metadata": {},
   "outputs": [],
   "source": [
    "df_final.to_csv(os.path.join(main_folder_path, date_code_excute + \"-\" + output_filename), index=False)"
   ]
  }
 ],
 "metadata": {
  "kernelspec": {
   "display_name": "base",
   "language": "python",
   "name": "python3"
  },
  "language_info": {
   "codemirror_mode": {
    "name": "ipython",
    "version": 3
   },
   "file_extension": ".py",
   "mimetype": "text/x-python",
   "name": "python",
   "nbconvert_exporter": "python",
   "pygments_lexer": "ipython3",
   "version": "3.11.4"
  }
 },
 "nbformat": 4,
 "nbformat_minor": 2
}
